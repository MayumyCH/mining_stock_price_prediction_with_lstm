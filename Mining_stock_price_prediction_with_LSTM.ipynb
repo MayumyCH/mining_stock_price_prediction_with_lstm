{
  "nbformat": 4,
  "nbformat_minor": 0,
  "metadata": {
    "colab": {
      "name": "Copia de Mining stock price prediction with LSTM.ipynb",
      "provenance": [],
      "collapsed_sections": []
    },
    "kernelspec": {
      "name": "python3",
      "display_name": "Python 3"
    },
    "language_info": {
      "name": "python"
    }
  },
  "cells": [
    {
      "cell_type": "markdown",
      "metadata": {
        "id": "bFxu0NU_fDi-"
      },
      "source": [
        "# Mining stock price prediction with LSTM\n",
        "\n",
        "## Autores\n",
        "\n",
        "Angel Jorge Salazar | Data Analytics @ Kobranzas SAC\n",
        "* Correo: angel.jorge@unmsm.edu.pe\n",
        "* Linkedin https://www.linkedin.com/in/angel-jorge-salazar-7b3bb614b/\n",
        "\n",
        "Heydy Mayumy Carrasco Huaccha | Data Analytics @ CGR\n",
        "* Correo: heydy.carrasco.huaccha@gmail.com\n",
        "* Linkedin https://www.linkedin.com/in/heydy-mayumy-carrasco-huaccha-3876bb137/"
      ]
    },
    {
      "cell_type": "markdown",
      "metadata": {
        "id": "Nk2p-lH9jDOk"
      },
      "source": [
        "![](https://www.aboutespanol.com/thmb/tucVaDrXW_EDVJ586lE3e-tZYJM=/2309x1299/filters:fill(auto,1)/bolsadelvalores-5ae6450b04d1cf003c23246f.jpg)"
      ]
    },
    {
      "cell_type": "code",
      "metadata": {
        "id": "3P9prbByGIbV"
      },
      "source": [
        "# Importación de librerías a utilizar \n",
        "\n",
        "import numpy as np\n",
        "import tensorflow as tf\n",
        "from tensorflow import keras\n",
        "from tensorflow.keras import layers\n",
        "import pandas as pd \n",
        "import numpy as np \n",
        "from keras.models import Sequential\n",
        "from keras.layers import LSTM, Dense, Dropout"
      ],
      "execution_count": null,
      "outputs": []
    },
    {
      "cell_type": "markdown",
      "metadata": {
        "id": "4lQNZwINIL_k"
      },
      "source": [
        "# Cargando los datos"
      ]
    },
    {
      "cell_type": "code",
      "metadata": {
        "colab": {
          "resources": {
            "http://localhost:8080/nbextensions/google.colab/files.js": {
              "data": "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",
              "ok": true,
              "headers": [
                [
                  "content-type",
                  "application/javascript"
                ]
              ],
              "status": 200,
              "status_text": ""
            }
          },
          "base_uri": "https://localhost:8080/",
          "height": 39
        },
        "id": "Qi2AgL0uIrJe",
        "outputId": "b83baed5-c154-44db-daae-b5c785c9e96b"
      },
      "source": [
        "# Importamos data a utilizar\n",
        "from google.colab import files \n",
        "dataset = files.upload()"
      ],
      "execution_count": null,
      "outputs": [
        {
          "output_type": "display_data",
          "data": {
            "text/html": [
              "\n",
              "     <input type=\"file\" id=\"files-9ade1735-15a2-4bc8-a3cc-17fefb897e9a\" name=\"files[]\" multiple disabled\n",
              "        style=\"border:none\" />\n",
              "     <output id=\"result-9ade1735-15a2-4bc8-a3cc-17fefb897e9a\">\n",
              "      Upload widget is only available when the cell has been executed in the\n",
              "      current browser session. Please rerun this cell to enable.\n",
              "      </output>\n",
              "      <script src=\"/nbextensions/google.colab/files.js\"></script> "
            ],
            "text/plain": [
              "<IPython.core.display.HTML object>"
            ]
          },
          "metadata": {
            "tags": []
          }
        }
      ]
    },
    {
      "cell_type": "code",
      "metadata": {
        "colab": {
          "base_uri": "https://localhost:8080/"
        },
        "id": "jlPiOkF4IxFJ",
        "outputId": "bc5619e5-119b-416b-9e6e-c72a1331b55d"
      },
      "source": [
        "df = pd.read_csv(\"/content/Datos históricos BVN (4).csv\", decimal=\",\")\n",
        "\n",
        "'''\n",
        "este es un cojunto de acciones de la empresa TESLA, que contiene\n",
        "los datos de apertura, valor máximo, mínimo y cierra\n",
        "'''\n",
        "\n",
        "print(df.head())\n"
      ],
      "execution_count": null,
      "outputs": [
        {
          "output_type": "stream",
          "text": [
            "        Fecha  Último  Apertura  Máximo  Mínimo    Vol.  % var.\n",
            "0  11.06.2021   10.81     10.80   10.92   10.79   2,92K   0,09%\n",
            "1  10.06.2021   10.80     10.64   10.90   10.61  76,43K   1,69%\n",
            "2  09.06.2021   10.62     10.96   10.96   10.61  40,36K  -3,19%\n",
            "3  08.06.2021   10.97     11.09   11.12   10.90  10,31K  -3,01%\n",
            "4  07.06.2021   11.31     11.45   12.11   11.30  64,69K  -7,45%\n"
          ],
          "name": "stdout"
        }
      ]
    },
    {
      "cell_type": "code",
      "metadata": {
        "colab": {
          "base_uri": "https://localhost:8080/"
        },
        "id": "uSn3JmhxJMeq",
        "outputId": "652cd260-b899-4194-db5e-8a1ca8f2be45"
      },
      "source": [
        "df = df[\"Último\"].values\n",
        "print(df)"
      ],
      "execution_count": null,
      "outputs": [
        {
          "output_type": "stream",
          "text": [
            "[10.81 10.8  10.62 ... 17.31 17.2  17.94]\n"
          ],
          "name": "stdout"
        }
      ]
    },
    {
      "cell_type": "code",
      "metadata": {
        "colab": {
          "base_uri": "https://localhost:8080/"
        },
        "id": "E3wm3n73JX4L",
        "outputId": "1f5a4f24-f7b3-48d6-9b01-47d783976e38"
      },
      "source": [
        "#necesitamos que sea vector columna\n",
        "df = df.reshape(-1,1)\n",
        "print(df)"
      ],
      "execution_count": null,
      "outputs": [
        {
          "output_type": "stream",
          "text": [
            "[[10.81]\n",
            " [10.8 ]\n",
            " [10.62]\n",
            " ...\n",
            " [17.31]\n",
            " [17.2 ]\n",
            " [17.94]]\n"
          ],
          "name": "stdout"
        }
      ]
    },
    {
      "cell_type": "code",
      "metadata": {
        "id": "kDjPj3iuJ8y1"
      },
      "source": [
        "train_size = int(df.shape[0]*0.8)\n",
        "\n",
        "data_train = np.array(df[:train_size])\n",
        "data_test  = np.array(df[train_size:])"
      ],
      "execution_count": null,
      "outputs": []
    },
    {
      "cell_type": "code",
      "metadata": {
        "id": "ToLpggs8Q23x"
      },
      "source": [
        "from sklearn.preprocessing import MinMaxScaler\n",
        "\n",
        "scaler = MinMaxScaler(feature_range=(0,1))\n",
        "data_train = scaler.fit_transform(data_train)\n",
        "data_test = scaler.transform(data_test)   #Ojo: cambio_ fit_transform a transform"
      ],
      "execution_count": null,
      "outputs": []
    },
    {
      "cell_type": "markdown",
      "metadata": {
        "id": "tjlgPXf0McFq"
      },
      "source": [
        "Necesitamos una función para preprocesar ese vector"
      ]
    },
    {
      "cell_type": "code",
      "metadata": {
        "id": "XZjDpR7NMfq5"
      },
      "source": [
        "def generate_dataset (df):\n",
        "  x = []\n",
        "  y = []\n",
        "  window_size = 50 # la ventana de días anterior que será usada para predecir \n",
        "\n",
        "  for i in range(window_size, df.shape[0]):\n",
        "    x.append(df[i-window_size:i,0]) #definiendo nuestros 50 días previos \n",
        "    y.append(df[i,0])\n",
        "  x = np.array(x)\n",
        "  y = np.array(y)\n",
        "  return x,y\n",
        "  \n"
      ],
      "execution_count": null,
      "outputs": []
    },
    {
      "cell_type": "markdown",
      "metadata": {
        "id": "irDTt9dbNcnT"
      },
      "source": [
        "Nuestras características x, son los 50 días previos. \n"
      ]
    },
    {
      "cell_type": "code",
      "metadata": {
        "id": "0s0dUVAZNhcD"
      },
      "source": [
        "x_train, y_train = generate_dataset(data_train)\n",
        "x_test, y_test = generate_dataset(data_test)\n",
        "\n",
        "\n"
      ],
      "execution_count": null,
      "outputs": []
    },
    {
      "cell_type": "markdown",
      "metadata": {
        "id": "f0tfHA0xN29t"
      },
      "source": [
        "Nuestra capa LSTM, necesita los datos en una matriz 3D. Tenemos que preparar nuestros datos para convertirlos en una matriz 3D y podamos usarlos con una capa LSTM "
      ]
    },
    {
      "cell_type": "code",
      "metadata": {
        "id": "dgZcr93lOBkW"
      },
      "source": [
        "x_train = np.reshape(x_train, (x_train.shape[0],x_train.shape[1],1))\n",
        "x_test = np.reshape(x_test, (x_test.shape[0],x_test.shape[1],1))"
      ],
      "execution_count": null,
      "outputs": []
    },
    {
      "cell_type": "markdown",
      "metadata": {
        "id": "UY4q108oORJg"
      },
      "source": [
        "Creando nuestro modelo de red"
      ]
    },
    {
      "cell_type": "code",
      "metadata": {
        "id": "uFd8VV6yOQ2_"
      },
      "source": [
        "model = Sequential()\n",
        "model.add(LSTM(units=96, return_sequences=True, input_shape=(x_train.shape[1],1)))\n",
        "# Estamos inicializando nuestro modelo como secuencial con 96 neuronas en la dimensionalidad de salida. \n",
        "# Usamos return_sequences = True para hacer la capa LSTM con entrada tridimensional \n",
        "#input_shape es simplemente el formato de entrada de nuestro conjunto \n",
        "\n",
        "model.add(Dropout(0.2))\n",
        "#Es la fracción de apagar neuronar al 20% en las capas. \n",
        "\n",
        "model.add(LSTM(units=96, return_sequences=True))\n",
        "model.add(Dropout(0.2))\n",
        "model.add(LSTM(units=96, return_sequences=True))\n",
        "model.add(Dropout(0.2))\n",
        "model.add(LSTM(units=96))\n",
        "model.add(Dropout(0.2))\n",
        "model.add(Dense(units=1))"
      ],
      "execution_count": null,
      "outputs": []
    },
    {
      "cell_type": "code",
      "metadata": {
        "id": "a-a3gGGxPcWA"
      },
      "source": [
        "#compilar el modelo \n",
        "\n",
        "model.compile(loss=\"mean_squared_error\", optimizer=\"adam\")\n",
        "# usamos mse porque es un problema de regresión y adam para actualizar los pesos de la red de forma iterativa. \n"
      ],
      "execution_count": null,
      "outputs": []
    },
    {
      "cell_type": "code",
      "metadata": {
        "colab": {
          "base_uri": "https://localhost:8080/"
        },
        "id": "C-c_Mw8eP9WJ",
        "outputId": "14b0ad88-7af5-4d9c-e334-aaa8b7cff642"
      },
      "source": [
        "model.summary()"
      ],
      "execution_count": null,
      "outputs": [
        {
          "output_type": "stream",
          "text": [
            "Model: \"sequential_1\"\n",
            "_________________________________________________________________\n",
            "Layer (type)                 Output Shape              Param #   \n",
            "=================================================================\n",
            "lstm_4 (LSTM)                (None, 50, 96)            37632     \n",
            "_________________________________________________________________\n",
            "dropout_4 (Dropout)          (None, 50, 96)            0         \n",
            "_________________________________________________________________\n",
            "lstm_5 (LSTM)                (None, 50, 96)            74112     \n",
            "_________________________________________________________________\n",
            "dropout_5 (Dropout)          (None, 50, 96)            0         \n",
            "_________________________________________________________________\n",
            "lstm_6 (LSTM)                (None, 50, 96)            74112     \n",
            "_________________________________________________________________\n",
            "dropout_6 (Dropout)          (None, 50, 96)            0         \n",
            "_________________________________________________________________\n",
            "lstm_7 (LSTM)                (None, 96)                74112     \n",
            "_________________________________________________________________\n",
            "dropout_7 (Dropout)          (None, 96)                0         \n",
            "_________________________________________________________________\n",
            "dense_1 (Dense)              (None, 1)                 97        \n",
            "=================================================================\n",
            "Total params: 260,065\n",
            "Trainable params: 260,065\n",
            "Non-trainable params: 0\n",
            "_________________________________________________________________\n"
          ],
          "name": "stdout"
        }
      ]
    },
    {
      "cell_type": "code",
      "metadata": {
        "colab": {
          "base_uri": "https://localhost:8080/"
        },
        "id": "cGP-J0rgQD6V",
        "outputId": "8330f70f-bb7b-43af-ec50-da3c5df480ed"
      },
      "source": [
        "model.fit(x_train, y_train, epochs=38, batch_size=32) #epochs de 38, porque el loss ya no disminuye mas"
      ],
      "execution_count": null,
      "outputs": [
        {
          "output_type": "stream",
          "text": [
            "Epoch 1/38\n",
            "47/47 [==============================] - 5s 112ms/step - loss: 0.0030\n",
            "Epoch 2/38\n",
            "47/47 [==============================] - 5s 111ms/step - loss: 0.0034\n",
            "Epoch 3/38\n",
            "47/47 [==============================] - 5s 112ms/step - loss: 0.0031\n",
            "Epoch 4/38\n",
            "47/47 [==============================] - 5s 111ms/step - loss: 0.0028\n",
            "Epoch 5/38\n",
            "47/47 [==============================] - 5s 110ms/step - loss: 0.0031\n",
            "Epoch 6/38\n",
            "47/47 [==============================] - 5s 111ms/step - loss: 0.0027\n",
            "Epoch 7/38\n",
            "47/47 [==============================] - 5s 112ms/step - loss: 0.0026\n",
            "Epoch 8/38\n",
            "47/47 [==============================] - 5s 111ms/step - loss: 0.0027\n",
            "Epoch 9/38\n",
            "47/47 [==============================] - 5s 110ms/step - loss: 0.0027\n",
            "Epoch 10/38\n",
            "47/47 [==============================] - 5s 111ms/step - loss: 0.0031\n",
            "Epoch 11/38\n",
            "47/47 [==============================] - 5s 111ms/step - loss: 0.0025\n",
            "Epoch 12/38\n",
            "47/47 [==============================] - 5s 110ms/step - loss: 0.0026\n",
            "Epoch 13/38\n",
            "47/47 [==============================] - 5s 111ms/step - loss: 0.0025\n",
            "Epoch 14/38\n",
            "47/47 [==============================] - 5s 112ms/step - loss: 0.0023\n",
            "Epoch 15/38\n",
            "47/47 [==============================] - 5s 112ms/step - loss: 0.0022\n",
            "Epoch 16/38\n",
            "47/47 [==============================] - 5s 112ms/step - loss: 0.0022\n",
            "Epoch 17/38\n",
            "47/47 [==============================] - 5s 110ms/step - loss: 0.0023\n",
            "Epoch 18/38\n",
            "47/47 [==============================] - 5s 112ms/step - loss: 0.0023\n",
            "Epoch 19/38\n",
            "47/47 [==============================] - 5s 111ms/step - loss: 0.0022\n",
            "Epoch 20/38\n",
            "47/47 [==============================] - 5s 112ms/step - loss: 0.0023\n",
            "Epoch 21/38\n",
            "47/47 [==============================] - 5s 113ms/step - loss: 0.0021\n",
            "Epoch 22/38\n",
            "47/47 [==============================] - 5s 112ms/step - loss: 0.0023\n",
            "Epoch 23/38\n",
            "47/47 [==============================] - 5s 112ms/step - loss: 0.0022\n",
            "Epoch 24/38\n",
            "47/47 [==============================] - 5s 112ms/step - loss: 0.0023\n",
            "Epoch 25/38\n",
            "47/47 [==============================] - 5s 113ms/step - loss: 0.0022\n",
            "Epoch 26/38\n",
            "47/47 [==============================] - 5s 113ms/step - loss: 0.0021\n",
            "Epoch 27/38\n",
            "47/47 [==============================] - 5s 111ms/step - loss: 0.0021\n",
            "Epoch 28/38\n",
            "47/47 [==============================] - 5s 113ms/step - loss: 0.0019\n",
            "Epoch 29/38\n",
            "47/47 [==============================] - 5s 115ms/step - loss: 0.0021\n",
            "Epoch 30/38\n",
            "47/47 [==============================] - 5s 113ms/step - loss: 0.0019\n",
            "Epoch 31/38\n",
            "47/47 [==============================] - 5s 112ms/step - loss: 0.0019\n",
            "Epoch 32/38\n",
            "47/47 [==============================] - 5s 113ms/step - loss: 0.0018\n",
            "Epoch 33/38\n",
            "47/47 [==============================] - 5s 111ms/step - loss: 0.0021\n",
            "Epoch 34/38\n",
            "47/47 [==============================] - 5s 112ms/step - loss: 0.0018\n",
            "Epoch 35/38\n",
            "47/47 [==============================] - 5s 113ms/step - loss: 0.0018\n",
            "Epoch 36/38\n",
            "47/47 [==============================] - 5s 111ms/step - loss: 0.0016\n",
            "Epoch 37/38\n",
            "47/47 [==============================] - 5s 113ms/step - loss: 0.0018\n",
            "Epoch 38/38\n",
            "47/47 [==============================] - 5s 114ms/step - loss: 0.0018\n"
          ],
          "name": "stdout"
        },
        {
          "output_type": "execute_result",
          "data": {
            "text/plain": [
              "<keras.callbacks.History at 0x7f3469522d50>"
            ]
          },
          "metadata": {
            "tags": []
          },
          "execution_count": 61
        }
      ]
    },
    {
      "cell_type": "code",
      "metadata": {
        "id": "y-i29TlgQt2p"
      },
      "source": [
        "predictions = model.predict(x_test)\n",
        "predictions = scaler.inverse_transform(predictions)\n",
        "\n",
        "y_test_scaled = scaler.inverse_transform(y_test.reshape(-1,1))\n",
        "\n",
        "\n"
      ],
      "execution_count": null,
      "outputs": []
    },
    {
      "cell_type": "markdown",
      "metadata": {
        "id": "qeSENaxqRsmz"
      },
      "source": [
        "Con 38 epochs"
      ]
    },
    {
      "cell_type": "code",
      "metadata": {
        "colab": {
          "base_uri": "https://localhost:8080/",
          "height": 500
        },
        "id": "y6-e2fLWRaMd",
        "outputId": "eabd50e7-b583-43db-abcf-2ea4e70614e0"
      },
      "source": [
        "import matplotlib.pyplot as plt\n",
        "fig, ax = plt.subplots(figsize=(16,8))\n",
        "ax.plot(y_test_scaled, color='red', label='Original')\n",
        "plt.plot(predictions, color='cyan', label='Predicted')\n",
        "plt.legend()"
      ],
      "execution_count": null,
      "outputs": [
        {
          "output_type": "execute_result",
          "data": {
            "text/plain": [
              "<matplotlib.legend.Legend at 0x7f3465d69fd0>"
            ]
          },
          "metadata": {
            "tags": []
          },
          "execution_count": 63
        },
        {
          "output_type": "display_data",
          "data": {
            "image/png": "[encoded data removed]",
            "text/plain": [
              "<Figure size 1152x576 with 1 Axes>"
            ]
          },
          "metadata": {
            "tags": [],
            "needs_background": "light"
          }
        }
      ]
    },
    {
      "cell_type": "code",
      "metadata": {
        "id": "0llwZY1qQmq3"
      },
      "source": [
        ""
      ],
      "execution_count": null,
      "outputs": []
    }
  ]
}